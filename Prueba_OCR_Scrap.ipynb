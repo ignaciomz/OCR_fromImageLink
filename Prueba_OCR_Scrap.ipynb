{
  "nbformat": 4,
  "nbformat_minor": 0,
  "metadata": {
    "colab": {
      "provenance": [],
      "authorship_tag": "ABX9TyMW5n3YMq7i+jVkG6Z6C4H7",
      "include_colab_link": true
    },
    "kernelspec": {
      "name": "python3",
      "display_name": "Python 3"
    },
    "language_info": {
      "name": "python"
    }
  },
  "cells": [
    {
      "cell_type": "markdown",
      "metadata": {
        "id": "view-in-github",
        "colab_type": "text"
      },
      "source": [
        "<a href=\"https://colab.research.google.com/github/ignaciomz/OCR_fromImageLink/blob/main/Prueba_OCR_Scrap.ipynb\" target=\"_parent\"><img src=\"https://colab.research.google.com/assets/colab-badge.svg\" alt=\"Open In Colab\"/></a>"
      ]
    },
    {
      "cell_type": "code",
      "execution_count": null,
      "metadata": {
        "id": "YkqmaikLDswq"
      },
      "outputs": [],
      "source": [
        "\n",
        "!apt-get install -y tesseract-ocr\n",
        "!apt-get install -y libtesseract-dev\n",
        "!pip install pytesseract pillow openpyxl\n",
        "!apt-get update\n",
        "!apt-get install -y tesseract-ocr\n",
        "!apt-get install -y tesseract-ocr-spa\n"
      ]
    },
    {
      "cell_type": "code",
      "source": [
        "import pytesseract\n",
        "from PIL import Image\n",
        "import requests\n",
        "from io import BytesIO\n",
        "from openpyxl import load_workbook\n",
        "from urllib.parse import urlparse\n",
        "from google.colab import files\n",
        "import os\n",
        "\n",
        "\n",
        "os.environ[\"TESSDATA_PREFIX\"] = \"/usr/share/tesseract-ocr/4.00/tessdata\"\n",
        "pytesseract.pytesseract.tesseract_cmd = r'/usr/bin/tesseract'\n",
        "\n",
        "\n",
        "def es_url_valida(url):\n",
        "    try:\n",
        "        resultado = urlparse(url)\n",
        "        return all([resultado.scheme, resultado.netloc])\n",
        "    except:\n",
        "        return False\n",
        "\n",
        "# Cargar archivo Excel\n",
        "print(\"Sube tu archivo Excel:\")\n",
        "uploaded = files.upload()\n",
        "archivo_excel = list(uploaded.keys())[0]\n",
        "\n",
        "\n",
        "wb = load_workbook(archivo_excel)\n",
        "hoja = wb.active\n",
        "\n",
        "# Columnas específicas (Aquí colocar el numero de la columna de tu archivo excel)\n",
        "columna_links = X  # Numero de Columna con Link de Imagen\n",
        "columna_resultados = X  # Numero de Columna donde alojará el resultado\n",
        "\n",
        "# Procesar cada fila\n",
        "for fila in range(2, hoja.max_row + 1):  # Empieza en la fila 2 (asumiendo encabezado en fila 1)\n",
        "    celda_link = hoja.cell(row=fila, column=columna_links)\n",
        "    celda_resultado = hoja.cell(row=fila, column=columna_resultados)\n",
        "\n",
        "    link = celda_link.value\n",
        "    if link and es_url_valida(link):\n",
        "        try:\n",
        "            print(f\"Procesando fila {fila}/{hoja.max_row}\")\n",
        "\n",
        "\n",
        "            response = requests.get(link)\n",
        "            response.raise_for_status()\n",
        "            img = Image.open(BytesIO(response.content))\n",
        "\n",
        "            # Realizar OCR\n",
        "            texto = pytesseract.image_to_string(img, lang=\"spa\")\n",
        "            celda_resultado.value = texto.strip()\n",
        "\n",
        "        except Exception as e:\n",
        "            print(f\"Error procesando la fila {fila}: {e}\")\n",
        "            celda_resultado.value = f\"Error: {e}\"\n",
        "    else:\n",
        "        celda_resultado.value = \"Enlace no válido\"\n",
        "\n",
        "# Guardar los cambios en el archivo Excel\n",
        "wb.save(\"OCR_Procesado.xlsx\")\n",
        "print(\"Proceso completado. Resultados guardados en 'OCR_Procesado.xlsx'.\")\n",
        "\n",
        "# Descarga automática del archivo\n",
        "files.download(\"OCR_Procesado.xlsx\")\n"
      ],
      "metadata": {
        "id": "JeLxm8z3K77G"
      },
      "execution_count": null,
      "outputs": []
    }
  ]
}